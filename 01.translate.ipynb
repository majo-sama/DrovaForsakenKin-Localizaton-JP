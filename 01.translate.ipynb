{
 "cells": [
  {
   "cell_type": "code",
   "execution_count": null,
   "metadata": {},
   "outputs": [],
   "source": [
    "from pathlib import Path\n",
    "from helpers import list_entries_recusive"
   ]
  },
  {
   "cell_type": "code",
   "execution_count": null,
   "metadata": {},
   "outputs": [],
   "source": [
    "# copy files to another direcotry\n",
    "data_dir = Path('data')\n",
    "version = '1.3.1'\n",
    "en_localization = data_dir / version / 'Localization' / 'en'\n",
    "\n",
    "copy_to_dir = data_dir / version / 'Localization' / 'ja'\n",
    "\n",
    "entries = list_entries_recusive(en_localization)\n",
    "entries"
   ]
  },
  {
   "cell_type": "code",
   "execution_count": null,
   "metadata": {},
   "outputs": [],
   "source": [
    "len(entries)"
   ]
  },
  {
   "cell_type": "code",
   "execution_count": null,
   "metadata": {},
   "outputs": [],
   "source": [
    "# assert 1==2, 'comment out this line to rerun copy process'\n",
    "\n",
    "import shutil\n",
    "\n",
    "fname_exceptions = []\n",
    "\n",
    "for entry in entries:\n",
    "    if entry.is_dir():\n",
    "        continue\n",
    "    relative_path = entry.relative_to(en_localization)\n",
    "\n",
    "    # rename filename '*_en.*' to '*_ja.*'\n",
    "    if entry.stem.endswith('_en'):\n",
    "        target_path = copy_to_dir / relative_path.with_stem(entry.stem[:-3] + '_ja')\n",
    "    else:\n",
    "        target_path = copy_to_dir / relative_path\n",
    "        fname_exceptions.append(target_path)\n",
    "        print(f\"not '*_en.*' pattern: {entry} -> {target_path}\")\n",
    "\n",
    "    target_path.parent.mkdir(parents=True, exist_ok=True)\n",
    "    # entry.rename(target_path)\n",
    "    ###entry.copy(target_path)\n",
    "    shutil.copyfile(str(entry.absolute()), str(target_path.absolute()))\n",
    "\n",
    "    print(f'copy: {entry} -> {target_path}')"
   ]
  },
  {
   "cell_type": "code",
   "execution_count": null,
   "metadata": {},
   "outputs": [],
   "source": [
    "fname_exceptions"
   ]
  },
  {
   "cell_type": "code",
   "execution_count": null,
   "metadata": {},
   "outputs": [],
   "source": [
    "ja_entries = list(list_entries_recusive(copy_to_dir))\n",
    "len(ja_entries)"
   ]
  },
  {
   "cell_type": "code",
   "execution_count": null,
   "metadata": {},
   "outputs": [],
   "source": [
    "from pptx_docx_translator import TranslationService\n",
    "from helpers import read_data_to_dict, write_dict_to_data\n",
    "\n",
    "translator = TranslationService()"
   ]
  },
  {
   "cell_type": "code",
   "execution_count": null,
   "metadata": {},
   "outputs": [],
   "source": [
    "skip_until = 0\n",
    "for idx, file in enumerate(ja_entries):\n",
    "    if idx < skip_until:\n",
    "        print(f\"Skipping file {idx}/{len(ja_entries)}: {file}\")\n",
    "        continue\n",
    "\n",
    "    # skip directories and the UserReport file (it contains multi line strings as value which are not supported yet)\n",
    "    if file.is_dir() or str(file) == \"data/202410/ja/GUI/UserReport_ja.loc\":\n",
    "        continue\n",
    "\n",
    "    print(f\"Processing file {idx}/{len(ja_entries)}: {file}\")\n",
    "\n",
    "    # get the original data\n",
    "    original_kv = read_data_to_dict(file.read_text())\n",
    "\n",
    "    # sniff the writing style\n",
    "    writing_style = translator.sniff_writing_style(list(original_kv.values()))\n",
    "    print(writing_style)\n",
    "\n",
    "    # translate the data\n",
    "    translated_kv = translator.run_dict(original_kv, writing_style=writing_style)\n",
    "    text_data = write_dict_to_data(translated_kv)\n",
    "    print(text_data)\n",
    "    file.write_text(text_data)\n"
   ]
  }
 ],
 "metadata": {
  "kernelspec": {
   "display_name": "base",
   "language": "python",
   "name": "python3"
  },
  "language_info": {
   "codemirror_mode": {
    "name": "ipython",
    "version": 3
   },
   "file_extension": ".py",
   "mimetype": "text/x-python",
   "name": "python",
   "nbconvert_exporter": "python",
   "pygments_lexer": "ipython3",
   "version": "3.11.4"
  }
 },
 "nbformat": 4,
 "nbformat_minor": 2
}
